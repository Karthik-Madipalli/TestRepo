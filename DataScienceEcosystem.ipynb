{
 "cells": [
  {
   "cell_type": "markdown",
   "id": "f0cf0cd9-c19a-4a38-9de1-154c01c12cf6",
   "metadata": {},
   "source": [
    "# Data Science Tools and Ecosystem"
   ]
  },
  {
   "cell_type": "markdown",
   "id": "a13f90fa-cff1-4905-a396-a42e9c78b818",
   "metadata": {},
   "source": [
    "# In this notebook, Data Science Tools and Ecosystem are summarized."
   ]
  },
  {
   "cell_type": "markdown",
   "id": "f49501ed-4d1b-42df-ba98-40402fdb606e",
   "metadata": {},
   "source": [
    "## Objectives:\n",
    "### o List popular languages for Data Science\n",
    "### o List Commonly Used Libraries for Data Science\n",
    "### o Running Basic Arithmetic Operations"
   ]
  },
  {
   "cell_type": "markdown",
   "id": "088de6cd-bdc8-4555-9b34-8814b91e4bfd",
   "metadata": {},
   "source": [
    "## Some of the popular languages that Data Scientists use are:\n",
    "### 1. Python\n",
    "### 2.R\n",
    "### 3.SQL"
   ]
  },
  {
   "cell_type": "markdown",
   "id": "0bf3d451-a4a0-4281-b584-a94eefd13741",
   "metadata": {},
   "source": [
    "## Some of the commonly used libraries used by Data Scientists include:\n",
    "### 1.Pandas\n",
    "### 2.NumPy\n",
    "### 3.ggplot"
   ]
  },
  {
   "cell_type": "markdown",
   "id": "268b0f8c-7dbd-4d1f-8be8-51ba9455e170",
   "metadata": {},
   "source": [
    "## Data Science Tools\n",
    "### 1.Anaconda\n",
    "### 2.IBM Watson Studio\n",
    "### 3.Spyder"
   ]
  },
  {
   "cell_type": "markdown",
   "id": "73cb4ee2-cd3e-47d8-bb27-ab09b07e5caa",
   "metadata": {},
   "source": [
    "### Below are a few examples of evaluating arithmetic expressions in Python"
   ]
  },
  {
   "cell_type": "code",
   "execution_count": 1,
   "id": "aa4afe9a-4f89-4841-925f-a86691b5b9f1",
   "metadata": {},
   "outputs": [
    {
     "data": {
      "text/plain": [
       "17"
      ]
     },
     "execution_count": 1,
     "metadata": {},
     "output_type": "execute_result"
    }
   ],
   "source": [
    "#This a simple arithmetic expression to mutiply then add integers\n",
    "(3*4)+5"
   ]
  },
  {
   "cell_type": "code",
   "execution_count": 2,
   "id": "a5ff01c3-1eb8-4dcf-a10d-11736f7fab79",
   "metadata": {},
   "outputs": [
    {
     "name": "stdout",
     "output_type": "stream",
     "text": [
      "3.3333333333333335\n"
     ]
    }
   ],
   "source": [
    "#This will convert 200 minutes to hours by diving by 60\n",
    "minute=200\n",
    "hour=minute/60\n",
    "print(hour)\n"
   ]
  },
  {
   "cell_type": "markdown",
   "id": "eb13fbf4-6c3a-49f5-935f-4bc4995f9cce",
   "metadata": {},
   "source": [
    "## Author\n",
    "Karthik"
   ]
  },
  {
   "cell_type": "code",
   "execution_count": null,
   "id": "96ae17af-1c44-4281-b627-4c26b6c7e1a9",
   "metadata": {},
   "outputs": [],
   "source": []
  }
 ],
 "metadata": {
  "kernelspec": {
   "display_name": "Python 3 (ipykernel)",
   "language": "python",
   "name": "python3"
  },
  "language_info": {
   "codemirror_mode": {
    "name": "ipython",
    "version": 3
   },
   "file_extension": ".py",
   "mimetype": "text/x-python",
   "name": "python",
   "nbconvert_exporter": "python",
   "pygments_lexer": "ipython3",
   "version": "3.13.5"
  }
 },
 "nbformat": 4,
 "nbformat_minor": 5
}
